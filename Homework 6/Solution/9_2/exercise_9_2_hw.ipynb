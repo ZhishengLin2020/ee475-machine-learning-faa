{
 "cells": [
  {
   "cell_type": "code",
   "execution_count": null,
   "metadata": {
    "collapsed": true
   },
   "outputs": [],
   "source": [
    "# This file is associated with the book\n",
    "# \"Machine Learning Refined\", Cambridge University Press, 2016.\n",
    "# by Jeremy Watt, Reza Borhani, and Aggelos Katsaggelos.\n",
    "\n",
    "import numpy as np\n",
    "import numpy.matlib\n",
    "import matplotlib.pyplot as plt\n",
    "from __future__ import division"
   ]
  },
  {
   "cell_type": "markdown",
   "metadata": {},
   "source": [
    "Your own PCA function."
   ]
  },
  {
   "cell_type": "code",
   "execution_count": null,
   "metadata": {
    "collapsed": true
   },
   "outputs": [],
   "source": [
    "# YOUR CODE GOES HERE - your PCA function\n",
    "def your_PCA(X, K):\n",
    "\n",
    "\n",
    "    return C, W"
   ]
  },
  {
   "cell_type": "markdown",
   "metadata": {},
   "source": [
    "Plot the resulting PCA transform of the data."
   ]
  },
  {
   "cell_type": "code",
   "execution_count": null,
   "metadata": {
    "collapsed": true
   },
   "outputs": [],
   "source": [
    "# plot everything\n",
    "def plot_results(X, C):\n",
    "\n",
    "    # Print points and pcs\n",
    "    fig = plt.figure(facecolor = 'white',figsize = (10,4))\n",
    "    ax1 = fig.add_subplot(121)\n",
    "    for j in np.arange(0,n):\n",
    "        plt.scatter(X[0][:],X[1][:],color = 'lime',edgecolor = 'k')\n",
    "\n",
    "    s = np.arange(C[0,0],-C[0,0],.001)\n",
    "    m = C[1,0]/C[0,0]\n",
    "    ax1.plot(s, m*s, color = 'k', linewidth = 2)\n",
    "    ax1.set_xlim(-.5, .5)\n",
    "    ax1.set_ylim(-.5, .5)\n",
    "    ax1.axis('off')\n",
    "\n",
    "    # Plot projected data\n",
    "    ax2 = fig.add_subplot(122)\n",
    "    X_proj = np.dot(C, np.linalg.solve(np.dot(C.T,C),np.dot(C.T,X)))\n",
    "    for j in np.arange(0,n):\n",
    "        plt.scatter(X_proj[0][:],X_proj[1][:],color = 'lime',edgecolor = 'k')\n",
    "\n",
    "    ax2.set_xlim(-.5, .5)\n",
    "    ax2.set_ylim(-.5, .5)\n",
    "    ax2.axis('off')\n",
    "\n",
    "    return"
   ]
  },
  {
   "cell_type": "markdown",
   "metadata": {},
   "source": [
    "With everything defined - lets run all."
   ]
  },
  {
   "cell_type": "code",
   "execution_count": null,
   "metadata": {
    "collapsed": false
   },
   "outputs": [],
   "source": [
    "# load in data\n",
    "X = np.matrix(np.genfromtxt('PCA_demo_data.csv', delimiter=','))\n",
    "n = np.shape(X)[0]\n",
    "means = np.matlib.repmat(np.mean(X,0), n, 1)\n",
    "X = X - means  # center the data\n",
    "X = X.T\n",
    "K = 1\n",
    "\n",
    "# run PCA    \n",
    "C, W = your_PCA(X, K)\n",
    "\n",
    "# plot results\n",
    "plot_results(X, C)\n",
    "plt.show()"
   ]
  }
 ],
 "metadata": {
  "anaconda-cloud": {},
  "kernelspec": {
   "display_name": "Python [conda root]",
   "language": "python",
   "name": "conda-root-py"
  },
  "language_info": {
   "codemirror_mode": {
    "name": "ipython",
    "version": 2
   },
   "file_extension": ".py",
   "mimetype": "text/x-python",
   "name": "python",
   "nbconvert_exporter": "python",
   "pygments_lexer": "ipython2",
   "version": "2.7.12"
  }
 },
 "nbformat": 4,
 "nbformat_minor": 1
}
