{
 "cells": [
  {
   "cell_type": "code",
   "execution_count": 50,
   "metadata": {},
   "outputs": [
    {
     "data": {
      "image/png": "[encoded data removed]",
      "text/plain": [
       "<Figure size 360x360 with 1 Axes>"
      ]
     },
     "metadata": {
      "needs_background": "light"
     },
     "output_type": "display_data"
    }
   ],
   "source": [
    "from __future__ import division\n",
    "import numpy as np\n",
    "import numpy.matlib\n",
    "import matplotlib.pyplot as plt\n",
    "import pylab\n",
    "from sklearn.model_selection import train_test_split\n",
    "from sklearn.model_selection import KFold\n",
    "\n",
    "# load data\n",
    "def load_data():\n",
    "    data = np.array(np.genfromtxt('C:/Users/10448/Desktop/galileo_ramp_data.csv', delimiter=','))\n",
    "    x = np.reshape(data[:,0],(np.size(data[:,0]),1))\n",
    "    y = np.reshape(data[:,1],(np.size(data[:,1]),1))\n",
    "    return x,y\n",
    "\n",
    "# Fourier features\n",
    "def poly_features(x,D):\n",
    "    F = np.ones((len(x),D+1))\n",
    "    for i in range(len(x)):\n",
    "        for j in range(D+1):\n",
    "            F[i,j] = x[i]**j\n",
    "    F = F.T\n",
    "\n",
    "    return F\n",
    "\n",
    "# plot train error and test error over all D tested \n",
    "def plot_error(train,test,deg):\n",
    "    plt.plot(np.arange(1,np.size(train)+1),train,'ro--')\n",
    "    plt.plot(np.arange(1,np.size(test)+1),test,'bo--')\n",
    "    plt.title('Error on entire dataset in D', fontsize=18)\n",
    "    plt.xlabel('degree D', fontsize=18)\n",
    "    plt.ylabel('error       ', fontsize=18)\n",
    "    plt.legend([r'$train\\:error$',r'$test\\:error$'])\n",
    "\n",
    "# run over all the degrees and calculate errors\n",
    "def try_all_degs(x,y,deg_range):\n",
    "    \n",
    "    # split data\n",
    "    kf = KFold(n_splits = 6,shuffle = False)\n",
    "    x_train = []\n",
    "    x_test = []\n",
    "    y_train = []\n",
    "    y_test = []\n",
    "    for train_index, test_index in kf.split(x):\n",
    "        x_train.append(x[train_index])\n",
    "        x_test.append(x[test_index])\n",
    "        y_train.append(y[train_index])\n",
    "        y_test.append(y[test_index])\n",
    "    \n",
    "    # generate train and test error features\n",
    "    train_error = []\n",
    "    test_error = []\n",
    "    train_error_ave = 0\n",
    "    test_error_ave = 0\n",
    "\n",
    "    # calculate errors\n",
    "    for D in np.arange(0,np.size(deg_range)):\n",
    "        # generate poly feature transformation\n",
    "        for i in range(np.size(x_train,0)):\n",
    "            F_train = poly_features(x_train[i],deg_range[D])\n",
    "            F_test = poly_features(x_test[i],deg_range[D])\n",
    "            # get error\n",
    "            temp_train = np.linalg.pinv(np.dot(F_train,F_train.T))\n",
    "            w_train = np.dot(np.dot(temp_train,F_train),y_train[i])\n",
    "            tr_error = np.linalg.norm(np.dot(F_train.T,w_train)-y_train[i])/np.size(y_train[i])\n",
    "            temp_test = np.linalg.pinv(np.dot(F_test,F_test.T))\n",
    "            w_test = w_train\n",
    "            te_error = np.linalg.norm(np.dot(F_test.T,w_test)-y_test[i])/np.size(y_test[i])\n",
    "            train_error_ave = train_error_ave + tr_error/(np.size(x_train,0))\n",
    "            test_error_ave = test_error_ave + te_error/(np.size(x_train,0))\n",
    "            \n",
    "        train_error.append(tr_error)\n",
    "        test_error.append(te_error)\n",
    "        train_error_ave = 0\n",
    "        test_error_ave = 0\n",
    "    \n",
    "    # make plot of train and test errors\n",
    "    fig = plt.figure(figsize = (5,5))\n",
    "    plot_error(train_error,test_error,deg_range)\n",
    "    plt.show()\n",
    "    \n",
    "# load data and defined degree range\n",
    "x, y = load_data()\n",
    "deg_range = [1,2,3,4,5,6]           # degree polynomial to try\n",
    "\n",
    "# run all over degree range\n",
    "try_all_degs(x,y,deg_range)"
   ]
  },
  {
   "cell_type": "code",
   "execution_count": null,
   "metadata": {},
   "outputs": [],
   "source": []
  }
 ],
 "metadata": {
  "kernelspec": {
   "display_name": "Python 3",
   "language": "python",
   "name": "python3"
  },
  "language_info": {
   "codemirror_mode": {
    "name": "ipython",
    "version": 3
   },
   "file_extension": ".py",
   "mimetype": "text/x-python",
   "name": "python",
   "nbconvert_exporter": "python",
   "pygments_lexer": "ipython3",
   "version": "3.7.3"
  }
 },
 "nbformat": 4,
 "nbformat_minor": 2
}
